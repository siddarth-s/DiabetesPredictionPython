{
 "cells": [
  {
   "cell_type": "markdown",
   "metadata": {},
   "source": [
    "**Importing Packages**"
   ]
  },
  {
   "cell_type": "code",
   "execution_count": 48,
   "metadata": {},
   "outputs": [],
   "source": [
    "import numpy as np\n",
    "import pandas as pd\n",
    "from sklearn import metrics\n",
    "import matplotlib.pyplot as plt\n",
    "from sklearn.linear_model import LogisticRegression"
   ]
  },
  {
   "cell_type": "markdown",
   "metadata": {},
   "source": [
    "**Function to  load data**"
   ]
  },
  {
   "cell_type": "code",
   "execution_count": 38,
   "metadata": {},
   "outputs": [],
   "source": [
    "def load_data(train_file = 'train_under.csv', test_file = 'test_under.csv'):\n",
    "    \n",
    "    train = pd.read_csv(train_file)\n",
    "    test = pd.read_csv(test_file)\n",
    "    train['Diabetes'] = train.Diabetes.replace(to_replace=['NO', 'YES'], value=[0, 1])\n",
    "    test['Diabetes'] = test.Diabetes.replace(to_replace=['NO', 'YES'], value=[0, 1])\n",
    "    Y_train = train.iloc[ : , 0]\n",
    "    Y_test = test.iloc[ : , 0]\n",
    "    X_train = train.iloc[ : , 1 : ]\n",
    "    X_test = test.iloc[ : , 1 : ]\n",
    "    \n",
    "    return X_train , X_test , Y_train , Y_test"
   ]
  },
  {
   "cell_type": "markdown",
   "metadata": {},
   "source": [
    "**Loading the data**"
   ]
  },
  {
   "cell_type": "code",
   "execution_count": 39,
   "metadata": {},
   "outputs": [],
   "source": [
    "X_train , X_test , Y_train , Y_test = load_data()"
   ]
  },
  {
   "cell_type": "markdown",
   "metadata": {},
   "source": [
    "**Checking the shapes of training and testing data**"
   ]
  },
  {
   "cell_type": "code",
   "execution_count": 46,
   "metadata": {},
   "outputs": [
    {
     "name": "stdout",
     "output_type": "stream",
     "text": [
      "Shape of X_train:  (964, 11)\n",
      "\n",
      "Shape of Y_train:  (964,)\n",
      "\n",
      "Shape of X_test:  (244, 11)\n",
      "\n",
      "Shape of Y_test:  (244,)\n"
     ]
    }
   ],
   "source": [
    "print('Shape of X_train: ' , X_train.shape)\n",
    "print('\\nShape of Y_train: ' , Y_train.shape)\n",
    "print('\\nShape of X_test: ' , X_test.shape)\n",
    "print('\\nShape of Y_test: ' , Y_test.shape)"
   ]
  },
  {
   "cell_type": "markdown",
   "metadata": {},
   "source": [
    "There are **964** training samples and **244** test samples after cleaning the data and undersampling. There are 11 different features in the data."
   ]
  },
  {
   "cell_type": "markdown",
   "metadata": {},
   "source": [
    "**Building a Logistic Regression Model**"
   ]
  },
  {
   "cell_type": "code",
   "execution_count": 51,
   "metadata": {},
   "outputs": [
    {
     "name": "stdout",
     "output_type": "stream",
     "text": [
      "Accuracy on training data :  0.7624481327800829\n",
      "\n",
      "Classification error on training data :  0.23755186721991706\n",
      "\n",
      "Accuracy on testing data :  0.7909836065573771\n",
      "\n",
      "Classification error on testing data :  0.2090163934426229\n"
     ]
    }
   ],
   "source": [
    "def Logistic_Regression(X , Y):\n",
    "    \n",
    "    model = LogisticRegression(max_iter = 10000)\n",
    "    model = model.fit(X , Y.ravel())\n",
    "    return model\n",
    "\n",
    "log_model = Logistic_Regression(X_train , Y_train)\n",
    "\n",
    "def Results(model , X , Y):    \n",
    "    \n",
    "    acc = model.score(X , Y)\n",
    "    err =  1 - model.score(X , Y)\n",
    "    pred = model.predict(X)\n",
    "    return acc , err , pred\n",
    "\n",
    "log_acc_tr , log_err_tr , log_pred_tr = Results(log_model , X_train , Y_train)\n",
    "log_acc_te , log_err_te , log_pred_te = Results(log_model , X_test , Y_test)\n",
    "\n",
    "print(\"Accuracy on training data : \" , log_acc_tr)\n",
    "print(\"\\nClassification error on training data : \" , log_err_tr)\n",
    "print(\"\\nAccuracy on testing data : \" , log_acc_te)\n",
    "print(\"\\nClassification error on testing data : \" , log_err_te)"
   ]
  },
  {
   "cell_type": "code",
   "execution_count": null,
   "metadata": {},
   "outputs": [],
   "source": []
  }
 ],
 "metadata": {
  "kernelspec": {
   "display_name": "Python 3",
   "language": "python",
   "name": "python3"
  },
  "language_info": {
   "codemirror_mode": {
    "name": "ipython",
    "version": 3
   },
   "file_extension": ".py",
   "mimetype": "text/x-python",
   "name": "python",
   "nbconvert_exporter": "python",
   "pygments_lexer": "ipython3",
   "version": "3.8.3"
  }
 },
 "nbformat": 4,
 "nbformat_minor": 4
}
